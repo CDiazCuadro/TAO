{
 "cells": [
  {
   "cell_type": "markdown",
   "id": "b0c4f50a",
   "metadata": {},
   "source": [
    "# Introduction\n",
    "\n",
    "## General optimization problem:\n",
    "\n",
    "Let say that $f(x): \\mathbb{R}^n \\rightarrow \\mathbb{R}$, the the general oprimization problem coulb be described as: \\textit{To find the minimun (or maximun) of an especific function}.\n",
    "In math:\n",
    "\n",
    "$$ min~f(x)\\\\\n",
    "x \\in \\chi $$\n",
    "\n",
    "But actually, we very often want:\n",
    "$$ argmin~f(x)\\\\\n",
    "x \\in \\chi $$\n",
    "\n",
    "Which means that we often want the argument in which the min occurs.\n",
    "\n",
    "Also there is two types of minimization (or maximiization) problems:\n",
    "\n",
    "1- Unrestricted:\n",
    "\n",
    "$$ argmin~f(x)\\\\\n",
    "x \\in \\chi $$    \n",
    " \n",
    "2- Restricted: \n",
    "\n",
    "$$ argmin~f(x)\\\\\n",
    "s.t.: ||x||_{2} \\in \\mathbb{R}$$\n"
   ]
  },
  {
   "cell_type": "markdown",
   "id": "695a77cd",
   "metadata": {},
   "source": [
    "## Defintion: Minimos\n",
    "\n",
    "- $x^*$ is local minimun of $f \\Leftrightarrow ~ \\exists ~ \\varepsilon > 0~~/ f(x^*) \\leq f(x)~~~~~~~ \\forall x \\in B(x^*,\\varepsilon)$\n",
    "\n",
    "- $x^*$ is global minimun of $f \\Leftrightarrow ~ \\exists ~ \\varepsilon > 0~~/ f(x^*) \\leq f(x)~~~~~~~ \\forall x \\in \\chi$"
   ]
  },
  {
   "cell_type": "markdown",
   "id": "1cab4a23",
   "metadata": {},
   "source": [
    "<img src='minimos.png'>\n",
    "\n",
    "where $x_1^*$ is a local minimum, while $x_2^*$ is both global and local minimum."
   ]
  },
  {
   "cell_type": "markdown",
   "id": "17464ff2",
   "metadata": {},
   "source": [
    "## Definition: Convexity\n",
    "\n",
    "- $ f: \\mathbb{R}^n \\rightarrow \\mathbb{R}~~\\text{is } convex \\Leftrightarrow$  $f(tx+(1-t)y)~\\leq~tf(x)+(1-t)f(y)~~~~~~~~~~~~~~\\forall~x,~y \\in \\mathbb{R}^n~~ \\& ~~ \\forall~t\\in \\left[0,1\\right]$ \n",
    "\n",
    "\n",
    "- For the $strictly~convex$ definition just subtitute \"$\\leq$\"  by  \"$ < $\"\n",
    "\n",
    "\n",
    "\n",
    "<img src='convexity.png'>\n",
    "\n",
    "\n",
    "So, for any chord joining two points of the function, the t-weighted sum of the functionals values of $x$ and $y$ is equal or higher than the funcional value of the t-weighted sum of $x$ and $y$."
   ]
  },
  {
   "cell_type": "markdown",
   "id": "6f8bdf92",
   "metadata": {},
   "source": [
    "## Property 1:\n",
    "\n",
    "$f:\\mathbb{R}^n \\rightarrow \\mathbb{R}$ convex and differentiable $\\Rightarrow$\n",
    "$ f(z) \\geq f(x) + \\nabla f(x)^T (z-x) ~~~~~~~~~~ \\forall ~ x \\in \\mathbb{R}^n $\n",
    "\n",
    "This means that for any point in $f(x)$ the tangent througth this point is below the function: \n",
    "\n",
    "\n",
    "<img src='tang.png'>\n",
    "\n",
    "\n",
    "### Demostration:\n",
    "\n",
    "Let $x,~z$ and consider $x + \\alpha(z-x)~~~~~ \\alpha~\\in [0,1]$ $~~~~~$(which is the same that: $\\alpha z + (1-\\alpha)x$)\n",
    "\n",
    "$$f(x + \\alpha(z-x)) \\leq \\alpha f(z) + (1-\\alpha) f(x) ~~~~~ \\forall \\alpha \\in [0,1]$$\n",
    "\n",
    "Parting by $\\alpha$\n",
    "\n",
    "$$\\dfrac{f(x + \\alpha(z-x))}{\\alpha} \\leq \\dfrac{\\alpha f(z) + (1-\\alpha) f(x)}{\\alpha} ~~~~~ \\forall \\alpha \\in [0,1]$$\n",
    "\n",
    "Distributing:\n",
    "\n",
    "$$\\dfrac{f(x + \\alpha(z-x))}{\\alpha} \\leq f(z) + \\dfrac{f(x)}{\\alpha} - f(x) ~~~~~ \\forall \\alpha \\in [0,1]$$\n",
    "\n",
    "Ordering:\n",
    "\n",
    "$$ \\dfrac{f(x + \\alpha(z-x)) - f(x)}{\\alpha} \\leq f(z) - f(z)  $$\n",
    "\n",
    "It can be seen that the previous Eq its a directional derivate of $f(x)$ in $(z-x)$ direction.\n",
    "\n",
    "In particular when $\\alpha \\rightarrow 0$\n",
    "\n",
    "$$ \\lim_{\\alpha \\rightarrow 0 }\\dfrac{f(x + \\alpha(z-x)) - f(x)}{\\alpha} \\leq f(z) - f(z)  $$\n",
    "\n",
    "Modifying the left part of the previous eq is the same taht:\n",
    "\n",
    "$$<\\nabla f(x), z-x> ~~\\leq f(z) - f(x)$$\n",
    "\n",
    "Which is the same that:\n",
    "\n",
    "$$ \\nabla f(x)^T(z-x) \\leq f(z) - f(x)~~~~ \\blacksquare $$"
   ]
  },
  {
   "cell_type": "markdown",
   "id": "bae0c691",
   "metadata": {},
   "source": [
    "## Property 2:\n",
    "\n",
    "If $f:\\mathbb{R}^n \\rightarrow\\mathbb{R}$ has second order derivatives at any poin, then:\n",
    "\n",
    "- If $\\nabla^2f(x)\\succeq 0 ~ (\\text{semi-defined positive})~~~~ \\forall x ~~~~~ \\Rightarrow ~~~~~ f$ is convex\n",
    "- If $\\nabla^2f(x)\\succ 0 ~(\\text{defined positive})~~~~ \\forall x ~~~~~ \\Rightarrow ~~~~~ f$ is estrictely convex"
   ]
  },
  {
   "cell_type": "markdown",
   "id": "3ac2742a",
   "metadata": {},
   "source": [
    "## Examples:\n",
    "\n",
    "- $f(x) = e^{ax}$ is convex $\\forall a$\n",
    "\n",
    "- $f(x) = x^{a}$ is convex $\\forall a \\notin [0, 1]$\n",
    "\n",
    "- $f(x) = log(x)$ is concave in $ \\mathbb{R^+}$ $~~~~~\\rightarrow~~~~~$ $-f(x)$ is convex\n",
    "\n",
    "- $f(x) = x log(x)$ is convex in $\\mathbb{R^+}$\n",
    "\n",
    "- Norms are convex\n",
    "\n",
    "- $f(x) = max\\{ x_1, x_2, ..., x_n\\}$ is convex\n",
    "\n",
    "- $f(x) = log[det(\\mathbf{X})]$ is convex in ....\n"
   ]
  },
  {
   "cell_type": "markdown",
   "id": "9f94a7cf",
   "metadata": {},
   "source": [
    "## Convexity preservation operations\n",
    "\n",
    "- Linear combination of convex functions with positive coefficients, is convex.\n",
    "\n",
    "- Composition with linear function (if $f(x)$ is convex $\\rightarrow ~ f(Ax+b)$ is convex)\n",
    "\n",
    "- Maximun and supreme of convex functions is convex ($f(x) = max\\{ f_1(x), f_2(x), ... f_n(x)\\}$)"
   ]
  },
  {
   "cell_type": "markdown",
   "id": "217eec46",
   "metadata": {},
   "source": [
    "## Definition: Convex sets\n",
    "\n",
    "A set $C \\in \\mathbb{R}^n $ is convex $\\Leftrightarrow$ $\\forall x,y \\in C: \\rightarrow tx+(1-tx)y \\in C ~~~~~ \\forall ~t~\\in~[0,1]$\n",
    "\n",
    "Convex VS Not Convex:\n",
    "\n",
    "<img src='conv_set.png'>\n"
   ]
  },
  {
   "cell_type": "markdown",
   "id": "f9d4b98c",
   "metadata": {},
   "source": [
    "## Examples:\n",
    "\n",
    "- Affine sets (Solutions of $ Ax = b $)\n",
    "\n",
    "- Balls (set of points whose distances from zero is less than $R$)\n",
    "\n",
    "- Convex cone: $C$ is a convex cone $~~~ \\Leftrightarrow ~~~ \\forall x_1, x_2~\\in~C ~~\\&~~ \\theta_1, \\theta_2 \\geq 0~~~ \\rightarrow ~~~ \\theta_1x_1 + \\theta_2x_2~\\in~C$\n",
    "\n",
    "- Normal cone: $C = \\{ (x,t)/ ||x||\\leq t\\} \\subset \\mathbb{R}^{n+1}$ with the norm $|| \\cdot ||_2$ is known as \"Second order cone\" \n",
    "\n",
    "<img src='cone.png'>\n",
    "\n",
    "- Positive semi-definite cone: \n",
    "     \n",
    "    Be $S^{n} = \\{X \\in \\mathbb{M}_{n\\times n}(\\mathbb{R})~~/ X^T = X \\}$ the set of symmetric square matrices\n",
    "    \n",
    "    and $S^n_+ = \\{X \\in S^n ~~/ X\\succeq 0 \\}$ the set of symmetric square and semi-defined matrices"
   ]
  },
  {
   "cell_type": "markdown",
   "id": "fc230254",
   "metadata": {},
   "source": [
    "## Convex Optimization Problemas:\n",
    "\n",
    "$$ min~f(x) $$\n",
    "$$ s.t.: f_i(x) \\leq 0 ~~~ i=1, 2, ..., m $$\n",
    "$$ a_i^T x = b_i ~~~ i = 1, 2, ... p $$\n",
    "$$ \\text{been:}~~ f, f_i~~\\text{convex}$$\n",
    "\n",
    "Or which is the same:\n",
    "\n",
    "$$ min~f(x) ~~~~~~~~~ \\text{with}~ f~\\text{convex} $$\n",
    "$$ x~\\in~C ~~~~~~~~~~ \\text{with}~ C~\\text{convex} $$"
   ]
  },
  {
   "cell_type": "markdown",
   "id": "9a0a3e9a",
   "metadata": {},
   "source": [
    "## Examples:\n",
    "\n",
    "- Linear Problems (LP)\n",
    "\n",
    "- Quadratic Problems (QCQP)\n",
    "\n",
    "- SOCP\n",
    "\n",
    "- SDP\n",
    "\n",
    "<img src='Gral_problems.png'>\n"
   ]
  },
  {
   "cell_type": "code",
   "execution_count": null,
   "id": "dcdf476d",
   "metadata": {},
   "outputs": [],
   "source": []
  }
 ],
 "metadata": {
  "kernelspec": {
   "display_name": "Python 3 (ipykernel)",
   "language": "python",
   "name": "python3"
  },
  "language_info": {
   "codemirror_mode": {
    "name": "ipython",
    "version": 3
   },
   "file_extension": ".py",
   "mimetype": "text/x-python",
   "name": "python",
   "nbconvert_exporter": "python",
   "pygments_lexer": "ipython3",
   "version": "3.9.12"
  }
 },
 "nbformat": 4,
 "nbformat_minor": 5
}
