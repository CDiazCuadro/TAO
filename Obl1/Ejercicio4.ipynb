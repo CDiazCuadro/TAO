{
 "cells": [
  {
   "cell_type": "code",
   "execution_count": 25,
   "id": "b714e7da",
   "metadata": {},
   "outputs": [
    {
     "data": {
      "text/plain": [
       "matrix([[-0.13284693,  0.1279282 ]])"
      ]
     },
     "execution_count": 25,
     "metadata": {},
     "output_type": "execute_result"
    }
   ],
   "source": [
    "# Ejercicio 4 - Obligatorio 1\n",
    "\n",
    "import numpy as np\n",
    "from scipy.linalg import solve\n",
    "\n",
    "A = np.loadtxt(\"A.txt\", delimiter=\" \")\n",
    "b = np.loadtxt(\"b.txt\", delimiter= \" \")\n",
    "m_A = np.matrix(A)\n",
    "inv_A=m_A.I\n",
    "\n",
    "x_min=np.dot(inv_A,b)\n",
    "x_min"
   ]
  },
  {
   "cell_type": "code",
   "execution_count": null,
   "id": "09cf0336",
   "metadata": {},
   "outputs": [],
   "source": []
  }
 ],
 "metadata": {
  "kernelspec": {
   "display_name": "Python 3 (ipykernel)",
   "language": "python",
   "name": "python3"
  },
  "language_info": {
   "codemirror_mode": {
    "name": "ipython",
    "version": 3
   },
   "file_extension": ".py",
   "mimetype": "text/x-python",
   "name": "python",
   "nbconvert_exporter": "python",
   "pygments_lexer": "ipython3",
   "version": "3.9.12"
  }
 },
 "nbformat": 4,
 "nbformat_minor": 5
}
