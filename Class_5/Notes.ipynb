{
 "cells": [
  {
   "cell_type": "markdown",
   "id": "3fedfe14",
   "metadata": {},
   "source": [
    "## How to Choose the step  (Continued)\n",
    "### Already selected $d^k$"
   ]
  },
  {
   "cell_type": "markdown",
   "id": "641ce9fe",
   "metadata": {},
   "source": [
    "4. Constant step: Choose $¬alpha^k = s~~~~~\\forall~ k$\n",
    "\n",
    "    if $\\alpha$ is too big, convergence cannot be guaranteed\n",
    "    \n",
    "    if $\\alpha$ is too small, convergence can be very slow\n",
    "    \n",
    "    OBS: We can not guarantee that this method be a descence method.\n",
    "    \n",
    "    \n",
    "    \n",
    "5. Decreasent ster: Choose $\\alpha^k \\rightarrow 0$ but whit: $\\sum_k \\alpha^k = \\infty $\n",
    "    \n",
    "    OBS: We can not guarantee that this method be a descence method.\n",
    "    \n",
    "    Ex: \n",
    "    \n",
    "    $\\alpha^k = 1/k$ It does not work\n",
    "    \n",
    "    $\\alpha^k=1/k^2$ It works"
   ]
  },
  {
   "cell_type": "markdown",
   "id": "48a01e98",
   "metadata": {},
   "source": [
    "------------------------------------------------------------------------------------------------------------------"
   ]
  },
  {
   "cell_type": "markdown",
   "id": "ee31155e",
   "metadata": {},
   "source": [
    "## Stop condition\n",
    "\n",
    "It is looking for critical points (or stationary points):  $\\bar{x}/\\nabla f(\\bar{x})=0$\n",
    "\n",
    "So, stop conditions:\n",
    "\n",
    "1. $||\\nabla f(x^k)||< \\varepsilon$\n",
    "\n",
    "\n",
    "2. $\\dfrac{||\\nabla f(x^k) ||}{||\\nabla(x^0) ||} < \\varepsilon $\n",
    "\n",
    "\n",
    "3. $||d^k||<\\varepsilon$\n",
    "\n",
    "\n",
    "4. $k < max\\_iter$\n",
    "\n",
    "\n",
    "5. $\\dfrac{||x^k - x^{k-1} ||}{||x^{k-1}||} < \\varepsilon $\n",
    "\n",
    "\n",
    "6. $\\dfrac{| f(x^k) - f(x^{k-1}) |}{|f(x^{k-1}) |} < \\varepsilon $\n",
    "\n"
   ]
  },
  {
   "cell_type": "markdown",
   "id": "dfe4dd4a",
   "metadata": {},
   "source": [
    "------------------------------------"
   ]
  },
  {
   "cell_type": "markdown",
   "id": "b922d224",
   "metadata": {},
   "source": [
    "# Convergence Analysis\n",
    "\n",
    "we say that $d^k$ are gradient related if for all sub-succession $\\{ x^k \\}_{k\\in K}$ that converges to a non stationary point, the correspondant sub-succession $\\{ d^k\\}_{k \\in K}$ is bounded and\n",
    "\n",
    "$$ \\lim_{k\\rightarrow +\\infty~~~k \\in K} sup \\nabla f(x^k)^T d^k$$\n",
    "\n",
    "In particular, if $d^k = -D^k\\nabla f(x^k)$ it suffices to ask that the eigenvalues of $D$ be far from 0."
   ]
  },
  {
   "cell_type": "markdown",
   "id": "cc0b147f",
   "metadata": {},
   "source": [
    "## Proposition:\n",
    "\n",
    "Sea $x^k$ generada por $x^{k+1}=x^k + \\alpha^k d^k$, con $d^k$ gradient related, y $\\alpha^k$ segun la regla de Armijo.\n",
    "\n",
    "Entonces todo punto limite de $x^k$ es un punto estacionario.\n",
    "\n",
    "Existe subsucesion de $x^k$ que converge a el.\n",
    "\n",
    "### Demonstration\n",
    "\n",
    "Sea $\\{x^k\\}_{k \\in K}$ subsucesion convergente a $\\bar{x}$.\n",
    "\n",
    "Supongamos que $\\nabla f(\\bar{x})\\neq 0~~~~~~~~~~~~~$ OBS: $\\{ f(x^k)\\}$ es decreciente.\n",
    "\n",
    "si $x^k_{k \\in K}\\rightarrow \\bar{x} \\Rightarrow f(x^k)_{k \\in K} \\rightarrow f(\\bar{x})$ \n",
    "\n",
    "Entonces> $\\{f(x^k)\\}\\rightarrow f(\\bar{x})$\n",
    "\n",
    "<img src='entera.png'>\n",
    "<img src='sub.png'>\n",
    "\n",
    "\n",
    "\n"
   ]
  },
  {
   "cell_type": "code",
   "execution_count": null,
   "id": "41fac0d8",
   "metadata": {},
   "outputs": [],
   "source": []
  }
 ],
 "metadata": {
  "kernelspec": {
   "display_name": "Python 3 (ipykernel)",
   "language": "python",
   "name": "python3"
  },
  "language_info": {
   "codemirror_mode": {
    "name": "ipython",
    "version": 3
   },
   "file_extension": ".py",
   "mimetype": "text/x-python",
   "name": "python",
   "nbconvert_exporter": "python",
   "pygments_lexer": "ipython3",
   "version": "3.9.12"
  }
 },
 "nbformat": 4,
 "nbformat_minor": 5
}
