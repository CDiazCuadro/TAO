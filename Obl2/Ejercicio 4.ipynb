{
 "cells": [
  {
   "cell_type": "markdown",
   "id": "7e0ca8bf",
   "metadata": {},
   "source": [
    "## Ejercicio 4\n",
    "### Obligatorio 2\n"
   ]
  },
  {
   "cell_type": "code",
   "execution_count": 32,
   "id": "96cc5c2d",
   "metadata": {},
   "outputs": [],
   "source": [
    "import numpy as np\n",
    "\n",
    "# Carga Matrices\n",
    "a = open ( './datos/A.txt' , 'r')\n",
    "A = []\n",
    "A = np.array([ line.split() for line in a])\n",
    "\n",
    "b = open ( './datos/B.txt' , 'r')\n",
    "B = []\n",
    "B = np.array([ line.split() for line in b])\n",
    "\n",
    "c = open ( './datos/C.txt' , 'r')\n",
    "C = []\n",
    "C = np.array([ line.split() for line in c])\n",
    "\n",
    "# Carga Vectores\n",
    "al = open ( './datos/alpha.txt' , 'r')\n",
    "alpha = []\n",
    "alpha = np.array([ line.split() for line in al])\n",
    "\n",
    "bet = open ( './datos/beta.txt' , 'r')\n",
    "beta = []\n",
    "beta = np.array([ line.split() for line in bet])\n",
    "\n",
    "gam = open ( './datos/gamma.txt' , 'r')\n",
    "gamma = []\n",
    "gamma = np.array([ line.split() for line in gam])\n"
   ]
  },
  {
   "cell_type": "code",
   "execution_count": 37,
   "id": "9605c7d9",
   "metadata": {},
   "outputs": [
    {
     "name": "stdout",
     "output_type": "stream",
     "text": [
      "[['-9.000000000000000000e+00']\n",
      " ['9.000000000000000000e+00']\n",
      " ['-8.000000000000000000e+00']\n",
      " ['-7.000000000000000000e+00']\n",
      " ['-6.000000000000000000e+00']\n",
      " ['-9.000000000000000000e+00']\n",
      " ['-2.000000000000000000e+00']\n",
      " ['0.000000000000000000e+00']\n",
      " ['6.000000000000000000e+00']\n",
      " ['-1.000000000000000000e+00']]\n"
     ]
    }
   ],
   "source": []
  },
  {
   "cell_type": "code",
   "execution_count": null,
   "id": "23c5b24f",
   "metadata": {},
   "outputs": [],
   "source": []
  },
  {
   "cell_type": "code",
   "execution_count": null,
   "id": "ecb7981a",
   "metadata": {},
   "outputs": [],
   "source": []
  }
 ],
 "metadata": {
  "kernelspec": {
   "display_name": "Python 3 (ipykernel)",
   "language": "python",
   "name": "python3"
  },
  "language_info": {
   "codemirror_mode": {
    "name": "ipython",
    "version": 3
   },
   "file_extension": ".py",
   "mimetype": "text/x-python",
   "name": "python",
   "nbconvert_exporter": "python",
   "pygments_lexer": "ipython3",
   "version": "3.9.12"
  }
 },
 "nbformat": 4,
 "nbformat_minor": 5
}
